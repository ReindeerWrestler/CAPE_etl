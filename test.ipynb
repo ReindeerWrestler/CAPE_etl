{
 "cells": [
  {
   "cell_type": "markdown",
   "source": [
    "# ETL Transfer into a Database for long term index data\n",
    "\n",
    "Load in the data from an Excel sheet drop the empty columns and rows with bad data"
   ],
   "metadata": {
    "collapsed": false,
    "pycharm": {
     "name": "#%% md\n"
    }
   }
  },
  {
   "cell_type": "code",
   "execution_count": 37,
   "metadata": {
    "collapsed": true,
    "pycharm": {
     "name": "#%%\n"
    }
   },
   "outputs": [
    {
     "data": {
      "text/plain": "                   P          D       E        CPI     Fraction Rate GS10  \\\nDate                                                                        \n1871.01         4.44   0.260000     0.4  12.464061  1871.041667      5.32   \n1871.02          4.5   0.260000     0.4  12.844641  1871.125000  5.323333   \n1871.03         4.61   0.260000     0.4  13.034972  1871.208333  5.326667   \n1871.04         4.74   0.260000     0.4  12.559226  1871.291667      5.33   \n1871.05         4.86   0.260000     0.4  12.273812  1871.375000  5.333333   \n...              ...        ...     ...        ...          ...       ...   \n2022.03  4391.265217  61.969974  197.91    287.504  2022.208333      2.13   \n2022.04     4391.296  62.653316     NaN    289.109  2022.291667      2.75   \n2022.05      4040.36  63.336658     NaN    292.296  2022.375000       2.9   \n2022.06  3898.946667  64.020000     NaN   293.8895  2022.458333      3.14   \n2022.07      3831.39        NaN     NaN  294.68625  2022.541667      2.88   \n\n               Price   Dividend       Price.1    Earnings     Earnings.1  \\\nDate                                                                       \n1871.01   104.974369   6.147148  1.049744e+02    9.457150       9.457150   \n1871.02   103.240573   5.965011  1.037377e+02    9.176940       9.221125   \n1871.03   104.219911   5.877913  1.052139e+02    9.042942       9.129188   \n1871.04   111.218062   6.100569  1.127920e+02    9.385490       9.518314   \n1871.05   116.685446   6.242431  1.188643e+02    9.603740       9.783073   \n...              ...        ...           ...         ...            ...   \n2022.03  4500.965133  63.518071  2.891616e+06  202.854067  130322.300006   \n2022.04  4476.009224  63.861972  2.879003e+06         NaN            NaN   \n2022.05  4073.400036  63.854594  2.623464e+06         NaN            NaN   \n2022.06  3909.516918  64.193562  2.521361e+06         NaN            NaN   \n2022.07  3831.390000        NaN  2.470974e+06         NaN            NaN   \n\n              CAPE    TR CAPE     Yield   Returns  Returns.1  Real Return  \\\nDate                                                                        \n1871.01        NaN        NaN       NaN  1.004177   1.000000     0.130609   \n1871.02        NaN        NaN       NaN  1.004180   0.974424     0.130858   \n1871.03        NaN        NaN       NaN  1.004183   0.964209     0.130951   \n1871.04        NaN        NaN       NaN  1.004185   1.004919     0.122056   \n1871.05        NaN        NaN       NaN  1.004188   1.032591     0.122638   \n...            ...        ...       ...       ...        ...          ...   \n2022.03  34.270799  37.239412  0.030717  0.948016  47.304227          NaN   \n2022.04  33.889165  36.800852  0.025106  0.989378  44.596200          NaN   \n2022.05  30.803768  33.469559  0.027804  0.981988  43.641414          NaN   \n2022.06  29.528057  32.103912  0.027514  1.025022  42.622998          NaN   \n2022.07  28.901599  31.399955  0.031293       NaN  43.571377          NaN   \n\n         Real Return.1  Returns.2  \nDate                               \n1871.01       0.092504   0.038106  \n1871.02       0.094635   0.036224  \n1871.03       0.096186   0.034765  \n1871.04       0.090972   0.031084  \n1871.05       0.089488   0.033150  \n...                ...        ...  \n2022.03            NaN        NaN  \n2022.04            NaN        NaN  \n2022.05            NaN        NaN  \n2022.06            NaN        NaN  \n2022.07            NaN        NaN  \n\n[1819 rows x 19 columns]",
      "text/html": "<div>\n<style scoped>\n    .dataframe tbody tr th:only-of-type {\n        vertical-align: middle;\n    }\n\n    .dataframe tbody tr th {\n        vertical-align: top;\n    }\n\n    .dataframe thead th {\n        text-align: right;\n    }\n</style>\n<table border=\"1\" class=\"dataframe\">\n  <thead>\n    <tr style=\"text-align: right;\">\n      <th></th>\n      <th>P</th>\n      <th>D</th>\n      <th>E</th>\n      <th>CPI</th>\n      <th>Fraction</th>\n      <th>Rate GS10</th>\n      <th>Price</th>\n      <th>Dividend</th>\n      <th>Price.1</th>\n      <th>Earnings</th>\n      <th>Earnings.1</th>\n      <th>CAPE</th>\n      <th>TR CAPE</th>\n      <th>Yield</th>\n      <th>Returns</th>\n      <th>Returns.1</th>\n      <th>Real Return</th>\n      <th>Real Return.1</th>\n      <th>Returns.2</th>\n    </tr>\n    <tr>\n      <th>Date</th>\n      <th></th>\n      <th></th>\n      <th></th>\n      <th></th>\n      <th></th>\n      <th></th>\n      <th></th>\n      <th></th>\n      <th></th>\n      <th></th>\n      <th></th>\n      <th></th>\n      <th></th>\n      <th></th>\n      <th></th>\n      <th></th>\n      <th></th>\n      <th></th>\n      <th></th>\n    </tr>\n  </thead>\n  <tbody>\n    <tr>\n      <th>1871.01</th>\n      <td>4.44</td>\n      <td>0.260000</td>\n      <td>0.4</td>\n      <td>12.464061</td>\n      <td>1871.041667</td>\n      <td>5.32</td>\n      <td>104.974369</td>\n      <td>6.147148</td>\n      <td>1.049744e+02</td>\n      <td>9.457150</td>\n      <td>9.457150</td>\n      <td>NaN</td>\n      <td>NaN</td>\n      <td>NaN</td>\n      <td>1.004177</td>\n      <td>1.000000</td>\n      <td>0.130609</td>\n      <td>0.092504</td>\n      <td>0.038106</td>\n    </tr>\n    <tr>\n      <th>1871.02</th>\n      <td>4.5</td>\n      <td>0.260000</td>\n      <td>0.4</td>\n      <td>12.844641</td>\n      <td>1871.125000</td>\n      <td>5.323333</td>\n      <td>103.240573</td>\n      <td>5.965011</td>\n      <td>1.037377e+02</td>\n      <td>9.176940</td>\n      <td>9.221125</td>\n      <td>NaN</td>\n      <td>NaN</td>\n      <td>NaN</td>\n      <td>1.004180</td>\n      <td>0.974424</td>\n      <td>0.130858</td>\n      <td>0.094635</td>\n      <td>0.036224</td>\n    </tr>\n    <tr>\n      <th>1871.03</th>\n      <td>4.61</td>\n      <td>0.260000</td>\n      <td>0.4</td>\n      <td>13.034972</td>\n      <td>1871.208333</td>\n      <td>5.326667</td>\n      <td>104.219911</td>\n      <td>5.877913</td>\n      <td>1.052139e+02</td>\n      <td>9.042942</td>\n      <td>9.129188</td>\n      <td>NaN</td>\n      <td>NaN</td>\n      <td>NaN</td>\n      <td>1.004183</td>\n      <td>0.964209</td>\n      <td>0.130951</td>\n      <td>0.096186</td>\n      <td>0.034765</td>\n    </tr>\n    <tr>\n      <th>1871.04</th>\n      <td>4.74</td>\n      <td>0.260000</td>\n      <td>0.4</td>\n      <td>12.559226</td>\n      <td>1871.291667</td>\n      <td>5.33</td>\n      <td>111.218062</td>\n      <td>6.100569</td>\n      <td>1.127920e+02</td>\n      <td>9.385490</td>\n      <td>9.518314</td>\n      <td>NaN</td>\n      <td>NaN</td>\n      <td>NaN</td>\n      <td>1.004185</td>\n      <td>1.004919</td>\n      <td>0.122056</td>\n      <td>0.090972</td>\n      <td>0.031084</td>\n    </tr>\n    <tr>\n      <th>1871.05</th>\n      <td>4.86</td>\n      <td>0.260000</td>\n      <td>0.4</td>\n      <td>12.273812</td>\n      <td>1871.375000</td>\n      <td>5.333333</td>\n      <td>116.685446</td>\n      <td>6.242431</td>\n      <td>1.188643e+02</td>\n      <td>9.603740</td>\n      <td>9.783073</td>\n      <td>NaN</td>\n      <td>NaN</td>\n      <td>NaN</td>\n      <td>1.004188</td>\n      <td>1.032591</td>\n      <td>0.122638</td>\n      <td>0.089488</td>\n      <td>0.033150</td>\n    </tr>\n    <tr>\n      <th>...</th>\n      <td>...</td>\n      <td>...</td>\n      <td>...</td>\n      <td>...</td>\n      <td>...</td>\n      <td>...</td>\n      <td>...</td>\n      <td>...</td>\n      <td>...</td>\n      <td>...</td>\n      <td>...</td>\n      <td>...</td>\n      <td>...</td>\n      <td>...</td>\n      <td>...</td>\n      <td>...</td>\n      <td>...</td>\n      <td>...</td>\n      <td>...</td>\n    </tr>\n    <tr>\n      <th>2022.03</th>\n      <td>4391.265217</td>\n      <td>61.969974</td>\n      <td>197.91</td>\n      <td>287.504</td>\n      <td>2022.208333</td>\n      <td>2.13</td>\n      <td>4500.965133</td>\n      <td>63.518071</td>\n      <td>2.891616e+06</td>\n      <td>202.854067</td>\n      <td>130322.300006</td>\n      <td>34.270799</td>\n      <td>37.239412</td>\n      <td>0.030717</td>\n      <td>0.948016</td>\n      <td>47.304227</td>\n      <td>NaN</td>\n      <td>NaN</td>\n      <td>NaN</td>\n    </tr>\n    <tr>\n      <th>2022.04</th>\n      <td>4391.296</td>\n      <td>62.653316</td>\n      <td>NaN</td>\n      <td>289.109</td>\n      <td>2022.291667</td>\n      <td>2.75</td>\n      <td>4476.009224</td>\n      <td>63.861972</td>\n      <td>2.879003e+06</td>\n      <td>NaN</td>\n      <td>NaN</td>\n      <td>33.889165</td>\n      <td>36.800852</td>\n      <td>0.025106</td>\n      <td>0.989378</td>\n      <td>44.596200</td>\n      <td>NaN</td>\n      <td>NaN</td>\n      <td>NaN</td>\n    </tr>\n    <tr>\n      <th>2022.05</th>\n      <td>4040.36</td>\n      <td>63.336658</td>\n      <td>NaN</td>\n      <td>292.296</td>\n      <td>2022.375000</td>\n      <td>2.9</td>\n      <td>4073.400036</td>\n      <td>63.854594</td>\n      <td>2.623464e+06</td>\n      <td>NaN</td>\n      <td>NaN</td>\n      <td>30.803768</td>\n      <td>33.469559</td>\n      <td>0.027804</td>\n      <td>0.981988</td>\n      <td>43.641414</td>\n      <td>NaN</td>\n      <td>NaN</td>\n      <td>NaN</td>\n    </tr>\n    <tr>\n      <th>2022.06</th>\n      <td>3898.946667</td>\n      <td>64.020000</td>\n      <td>NaN</td>\n      <td>293.8895</td>\n      <td>2022.458333</td>\n      <td>3.14</td>\n      <td>3909.516918</td>\n      <td>64.193562</td>\n      <td>2.521361e+06</td>\n      <td>NaN</td>\n      <td>NaN</td>\n      <td>29.528057</td>\n      <td>32.103912</td>\n      <td>0.027514</td>\n      <td>1.025022</td>\n      <td>42.622998</td>\n      <td>NaN</td>\n      <td>NaN</td>\n      <td>NaN</td>\n    </tr>\n    <tr>\n      <th>2022.07</th>\n      <td>3831.39</td>\n      <td>NaN</td>\n      <td>NaN</td>\n      <td>294.68625</td>\n      <td>2022.541667</td>\n      <td>2.88</td>\n      <td>3831.390000</td>\n      <td>NaN</td>\n      <td>2.470974e+06</td>\n      <td>NaN</td>\n      <td>NaN</td>\n      <td>28.901599</td>\n      <td>31.399955</td>\n      <td>0.031293</td>\n      <td>NaN</td>\n      <td>43.571377</td>\n      <td>NaN</td>\n      <td>NaN</td>\n      <td>NaN</td>\n    </tr>\n  </tbody>\n</table>\n<p>1819 rows × 19 columns</p>\n</div>"
     },
     "execution_count": 37,
     "metadata": {},
     "output_type": "execute_result"
    }
   ],
   "source": [
    "import pandas as pd\n",
    "\n",
    "df_cape_ratio = pd.read_excel(\"data/ie_data.xls\", sheet_name=\"Data\", skiprows=7, index_col=\"Date\")\n",
    "df_cape_ratio = df_cape_ratio.drop(columns=['Unnamed: 13', 'Unnamed: 15'])\n",
    "df_cape_ratio = df_cape_ratio.drop(df_cape_ratio.index[-1])\n",
    "df_cape_ratio"
   ]
  },
  {
   "cell_type": "markdown",
   "source": [
    "Now rename the columns, convert columns with numerical data from string to floats, convert the index to a string then to a datetime."
   ],
   "metadata": {
    "collapsed": false,
    "pycharm": {
     "name": "#%% md\n"
    }
   }
  },
  {
   "cell_type": "code",
   "execution_count": 38,
   "outputs": [
    {
     "data": {
      "text/plain": "S&P_comp_p                              float64\ndividend                                float64\nearnings                                float64\nCPI                                     float64\ndate_fraction                           float64\nlong_interest_rate_GS10                 float64\nreal_price                              float64\nreal_dividend                           float64\nreal_total_return_price                 float64\nreal_earnings                           float64\nreal_tr_scaled_earnings                 float64\nCAPE                                    float64\nTR_CAPE                                 float64\nExcess_CAPE_yield                       float64\nmonthly_total_bond_returns              float64\nreal_total_bond_returns                 float64\n10_year_annualized_stock_real_return    float64\n10_year_annualized_bond_real_return     float64\n10_year_excess_annualized_return        float64\ndtype: object"
     },
     "execution_count": 38,
     "metadata": {},
     "output_type": "execute_result"
    }
   ],
   "source": [
    "df_cape_ratio.columns = [\"S&P_comp_p\", \"dividend\", \"earnings\", \"CPI\", \"date_fraction\", \"long_interest_rate_GS10\",\n",
    "                         \"real_price\", \"real_dividend\", \"real_total_return_price\", \"real_earnings\",\n",
    "                         \"real_tr_scaled_earnings\",\"CAPE\", \"TR_CAPE\", \"Excess_CAPE_yield\", \"monthly_total_bond_returns\",\n",
    "                         \"real_total_bond_returns\",\n",
    "                         \"10_year_annualized_stock_real_return\", \"10_year_annualized_bond_real_return\",\n",
    "                         \"10_year_excess_annualized_return\"]\n",
    "\n",
    "df_cape_ratio[\"S&P_comp_p\"] = pd.to_numeric(df_cape_ratio[\"S&P_comp_p\"])\n",
    "df_cape_ratio[\"earnings\"] = pd.to_numeric(df_cape_ratio[\"earnings\"])\n",
    "df_cape_ratio[\"CPI\"] = pd.to_numeric(df_cape_ratio[\"CPI\"])\n",
    "df_cape_ratio[\"long_interest_rate_GS10\"] = pd.to_numeric(df_cape_ratio[\"long_interest_rate_GS10\"])\n",
    "\n",
    "df_cape_ratio.index = df_cape_ratio.index.astype(str)\n",
    "df_cape_ratio.index = pd.to_datetime(df_cape_ratio.index, format=\"%Y.%m\")\n",
    "df_cape_ratio.dtypes"
   ],
   "metadata": {
    "collapsed": false,
    "pycharm": {
     "name": "#%%\n"
    }
   }
  },
  {
   "cell_type": "markdown",
   "source": [
    "Now create a database if needed to upload the data to.\n",
    "\n",
    "To create the database just uncomment the code."
   ],
   "metadata": {
    "collapsed": false,
    "pycharm": {
     "name": "#%% md\n"
    }
   }
  },
  {
   "cell_type": "code",
   "execution_count": 39,
   "outputs": [],
   "source": [
    "from sqlalchemy import Table, Column, String, Integer, Float, ForeignKey, create_engine, MetaData, DateTime, insert, select, desc\n",
    "\n",
    "\n",
    "engine = create_engine(\"sqlite:///capeDB.sqlite\")\n",
    "\n",
    "connection = engine.connect()\n",
    "metadata = MetaData()\n",
    "\n",
    "# sources = Table(\"CAPE_DATA\", metadata,\n",
    "#                 Column(\"id\", Integer(), primary_key=True),\n",
    "#                 Column(\"date\", DateTime()),\n",
    "#                 Column(\"S&P_comp_p\", Float()),\n",
    "#                 Column(\"dividend\", Float()),\n",
    "#                 Column(\"earnings\", Float()),\n",
    "#                 Column(\"CPI\", Float()),\n",
    "#                 Column(\"date_fraction\", Float()),\n",
    "#                 Column(\"long_interest_rate_GS10\", Float()),\n",
    "#                 Column(\"real_price\", Float()),\n",
    "#                 Column(\"real_dividend\", Float()),\n",
    "#                 Column(\"real_total_return_price\", Float()),\n",
    "#                 Column(\"real_earnings\", Float()),\n",
    "#                 Column(\"real_tr_scaled_earnings\", Float()),\n",
    "#                 Column(\"CAPE\", Float()),\n",
    "#                 Column(\"TR_CAPE\", Float()),\n",
    "#                 Column(\"Excess_CAPE_yield\", Float()),\n",
    "#                 Column(\"monthly_total_bond_returns\", Float()),\n",
    "#                 Column(\"real_total_bond_returns\", Float()),\n",
    "#                 Column(\"10_year_annualized_stock_real_return\", Float()),\n",
    "#                 Column(\"10_year_annualized_bond_real_return\", Float()),\n",
    "#                 Column(\"10_year_excess_annualized_return\", Float()))\n",
    "#\n",
    "#\n",
    "# metadata.create_all(engine)\n"
   ],
   "metadata": {
    "collapsed": false,
    "pycharm": {
     "name": "#%%\n"
    }
   }
  },
  {
   "cell_type": "markdown",
   "source": [
    "Push the data to the database."
   ],
   "metadata": {
    "collapsed": false,
    "pycharm": {
     "name": "#%% md\n"
    }
   }
  },
  {
   "cell_type": "code",
   "execution_count": 40,
   "outputs": [
    {
     "data": {
      "text/plain": "1819"
     },
     "execution_count": 40,
     "metadata": {},
     "output_type": "execute_result"
    }
   ],
   "source": [
    "df_cape_ratio.to_sql(\"CAPE_DATA\", con=engine, if_exists='append')"
   ],
   "metadata": {
    "collapsed": false,
    "pycharm": {
     "name": "#%%\n"
    }
   }
  },
  {
   "cell_type": "markdown",
   "source": [
    "Pull the data from the database and show it."
   ],
   "metadata": {
    "collapsed": false,
    "pycharm": {
     "name": "#%% md\n"
    }
   }
  },
  {
   "cell_type": "code",
   "execution_count": 41,
   "outputs": [
    {
     "data": {
      "text/plain": "              id   S&P_comp_p   dividend  earnings         CPI  date_fraction  \\\ndate                                                                            \n1871-01-01     1     4.440000   0.260000      0.40   12.464061    1871.041667   \n1871-02-01     2     4.500000   0.260000      0.40   12.844641    1871.125000   \n1871-03-01     3     4.610000   0.260000      0.40   13.034972    1871.208333   \n1871-04-01     4     4.740000   0.260000      0.40   12.559226    1871.291667   \n1871-05-01     5     4.860000   0.260000      0.40   12.273812    1871.375000   \n...          ...          ...        ...       ...         ...            ...   \n2022-03-01  1815  4391.265217  61.969974    197.91  287.504000    2022.208333   \n2022-04-01  1816  4391.296000  62.653316       NaN  289.109000    2022.291667   \n2022-05-01  1817  4040.360000  63.336658       NaN  292.296000    2022.375000   \n2022-06-01  1818  3898.946667  64.020000       NaN  293.889500    2022.458333   \n2022-07-01  1819  3831.390000        NaN       NaN  294.686250    2022.541667   \n\n            long_interest_rate_GS10   real_price  real_dividend  \\\ndate                                                              \n1871-01-01                 5.320000   104.974369       6.147148   \n1871-02-01                 5.323333   103.240573       5.965011   \n1871-03-01                 5.326667   104.219911       5.877913   \n1871-04-01                 5.330000   111.218062       6.100569   \n1871-05-01                 5.333333   116.685446       6.242431   \n...                             ...          ...            ...   \n2022-03-01                 2.130000  4500.965133      63.518071   \n2022-04-01                 2.750000  4476.009224      63.861972   \n2022-05-01                 2.900000  4073.400036      63.854594   \n2022-06-01                 3.140000  3909.516918      64.193562   \n2022-07-01                 2.880000  3831.390000            NaN   \n\n            real_total_return_price  real_earnings  real_tr_scaled_earnings  \\\ndate                                                                          \n1871-01-01             1.049744e+02       9.457150                 9.457150   \n1871-02-01             1.037377e+02       9.176940                 9.221125   \n1871-03-01             1.052139e+02       9.042942                 9.129188   \n1871-04-01             1.127920e+02       9.385490                 9.518314   \n1871-05-01             1.188643e+02       9.603740                 9.783073   \n...                             ...            ...                      ...   \n2022-03-01             2.891616e+06     202.854067            130322.300006   \n2022-04-01             2.879003e+06            NaN                      NaN   \n2022-05-01             2.623464e+06            NaN                      NaN   \n2022-06-01             2.521361e+06            NaN                      NaN   \n2022-07-01             2.470974e+06            NaN                      NaN   \n\n                 CAPE    TR_CAPE  Excess_CAPE_yield  \\\ndate                                                  \n1871-01-01        NaN        NaN                NaN   \n1871-02-01        NaN        NaN                NaN   \n1871-03-01        NaN        NaN                NaN   \n1871-04-01        NaN        NaN                NaN   \n1871-05-01        NaN        NaN                NaN   \n...               ...        ...                ...   \n2022-03-01  34.270799  37.239412           0.030717   \n2022-04-01  33.889165  36.800852           0.025106   \n2022-05-01  30.803768  33.469559           0.027804   \n2022-06-01  29.528057  32.103912           0.027514   \n2022-07-01  28.901599  31.399955           0.031293   \n\n            monthly_total_bond_returns  real_total_bond_returns  \\\ndate                                                              \n1871-01-01                    1.004177                 1.000000   \n1871-02-01                    1.004180                 0.974424   \n1871-03-01                    1.004183                 0.964209   \n1871-04-01                    1.004185                 1.004919   \n1871-05-01                    1.004188                 1.032591   \n...                                ...                      ...   \n2022-03-01                    0.948016                47.304227   \n2022-04-01                    0.989378                44.596200   \n2022-05-01                    0.981988                43.641414   \n2022-06-01                    1.025022                42.622998   \n2022-07-01                         NaN                43.571377   \n\n            10_year_annualized_stock_real_return  \\\ndate                                               \n1871-01-01                              0.130609   \n1871-02-01                              0.130858   \n1871-03-01                              0.130951   \n1871-04-01                              0.122056   \n1871-05-01                              0.122638   \n...                                          ...   \n2022-03-01                                   NaN   \n2022-04-01                                   NaN   \n2022-05-01                                   NaN   \n2022-06-01                                   NaN   \n2022-07-01                                   NaN   \n\n            10_year_annualized_bond_real_return  \\\ndate                                              \n1871-01-01                             0.092504   \n1871-02-01                             0.094635   \n1871-03-01                             0.096186   \n1871-04-01                             0.090972   \n1871-05-01                             0.089488   \n...                                         ...   \n2022-03-01                                  NaN   \n2022-04-01                                  NaN   \n2022-05-01                                  NaN   \n2022-06-01                                  NaN   \n2022-07-01                                  NaN   \n\n            10_year_excess_annualized_return  \ndate                                          \n1871-01-01                          0.038106  \n1871-02-01                          0.036224  \n1871-03-01                          0.034765  \n1871-04-01                          0.031084  \n1871-05-01                          0.033150  \n...                                      ...  \n2022-03-01                               NaN  \n2022-04-01                               NaN  \n2022-05-01                               NaN  \n2022-06-01                               NaN  \n2022-07-01                               NaN  \n\n[1819 rows x 20 columns]",
      "text/html": "<div>\n<style scoped>\n    .dataframe tbody tr th:only-of-type {\n        vertical-align: middle;\n    }\n\n    .dataframe tbody tr th {\n        vertical-align: top;\n    }\n\n    .dataframe thead th {\n        text-align: right;\n    }\n</style>\n<table border=\"1\" class=\"dataframe\">\n  <thead>\n    <tr style=\"text-align: right;\">\n      <th></th>\n      <th>id</th>\n      <th>S&amp;P_comp_p</th>\n      <th>dividend</th>\n      <th>earnings</th>\n      <th>CPI</th>\n      <th>date_fraction</th>\n      <th>long_interest_rate_GS10</th>\n      <th>real_price</th>\n      <th>real_dividend</th>\n      <th>real_total_return_price</th>\n      <th>real_earnings</th>\n      <th>real_tr_scaled_earnings</th>\n      <th>CAPE</th>\n      <th>TR_CAPE</th>\n      <th>Excess_CAPE_yield</th>\n      <th>monthly_total_bond_returns</th>\n      <th>real_total_bond_returns</th>\n      <th>10_year_annualized_stock_real_return</th>\n      <th>10_year_annualized_bond_real_return</th>\n      <th>10_year_excess_annualized_return</th>\n    </tr>\n    <tr>\n      <th>date</th>\n      <th></th>\n      <th></th>\n      <th></th>\n      <th></th>\n      <th></th>\n      <th></th>\n      <th></th>\n      <th></th>\n      <th></th>\n      <th></th>\n      <th></th>\n      <th></th>\n      <th></th>\n      <th></th>\n      <th></th>\n      <th></th>\n      <th></th>\n      <th></th>\n      <th></th>\n      <th></th>\n    </tr>\n  </thead>\n  <tbody>\n    <tr>\n      <th>1871-01-01</th>\n      <td>1</td>\n      <td>4.440000</td>\n      <td>0.260000</td>\n      <td>0.40</td>\n      <td>12.464061</td>\n      <td>1871.041667</td>\n      <td>5.320000</td>\n      <td>104.974369</td>\n      <td>6.147148</td>\n      <td>1.049744e+02</td>\n      <td>9.457150</td>\n      <td>9.457150</td>\n      <td>NaN</td>\n      <td>NaN</td>\n      <td>NaN</td>\n      <td>1.004177</td>\n      <td>1.000000</td>\n      <td>0.130609</td>\n      <td>0.092504</td>\n      <td>0.038106</td>\n    </tr>\n    <tr>\n      <th>1871-02-01</th>\n      <td>2</td>\n      <td>4.500000</td>\n      <td>0.260000</td>\n      <td>0.40</td>\n      <td>12.844641</td>\n      <td>1871.125000</td>\n      <td>5.323333</td>\n      <td>103.240573</td>\n      <td>5.965011</td>\n      <td>1.037377e+02</td>\n      <td>9.176940</td>\n      <td>9.221125</td>\n      <td>NaN</td>\n      <td>NaN</td>\n      <td>NaN</td>\n      <td>1.004180</td>\n      <td>0.974424</td>\n      <td>0.130858</td>\n      <td>0.094635</td>\n      <td>0.036224</td>\n    </tr>\n    <tr>\n      <th>1871-03-01</th>\n      <td>3</td>\n      <td>4.610000</td>\n      <td>0.260000</td>\n      <td>0.40</td>\n      <td>13.034972</td>\n      <td>1871.208333</td>\n      <td>5.326667</td>\n      <td>104.219911</td>\n      <td>5.877913</td>\n      <td>1.052139e+02</td>\n      <td>9.042942</td>\n      <td>9.129188</td>\n      <td>NaN</td>\n      <td>NaN</td>\n      <td>NaN</td>\n      <td>1.004183</td>\n      <td>0.964209</td>\n      <td>0.130951</td>\n      <td>0.096186</td>\n      <td>0.034765</td>\n    </tr>\n    <tr>\n      <th>1871-04-01</th>\n      <td>4</td>\n      <td>4.740000</td>\n      <td>0.260000</td>\n      <td>0.40</td>\n      <td>12.559226</td>\n      <td>1871.291667</td>\n      <td>5.330000</td>\n      <td>111.218062</td>\n      <td>6.100569</td>\n      <td>1.127920e+02</td>\n      <td>9.385490</td>\n      <td>9.518314</td>\n      <td>NaN</td>\n      <td>NaN</td>\n      <td>NaN</td>\n      <td>1.004185</td>\n      <td>1.004919</td>\n      <td>0.122056</td>\n      <td>0.090972</td>\n      <td>0.031084</td>\n    </tr>\n    <tr>\n      <th>1871-05-01</th>\n      <td>5</td>\n      <td>4.860000</td>\n      <td>0.260000</td>\n      <td>0.40</td>\n      <td>12.273812</td>\n      <td>1871.375000</td>\n      <td>5.333333</td>\n      <td>116.685446</td>\n      <td>6.242431</td>\n      <td>1.188643e+02</td>\n      <td>9.603740</td>\n      <td>9.783073</td>\n      <td>NaN</td>\n      <td>NaN</td>\n      <td>NaN</td>\n      <td>1.004188</td>\n      <td>1.032591</td>\n      <td>0.122638</td>\n      <td>0.089488</td>\n      <td>0.033150</td>\n    </tr>\n    <tr>\n      <th>...</th>\n      <td>...</td>\n      <td>...</td>\n      <td>...</td>\n      <td>...</td>\n      <td>...</td>\n      <td>...</td>\n      <td>...</td>\n      <td>...</td>\n      <td>...</td>\n      <td>...</td>\n      <td>...</td>\n      <td>...</td>\n      <td>...</td>\n      <td>...</td>\n      <td>...</td>\n      <td>...</td>\n      <td>...</td>\n      <td>...</td>\n      <td>...</td>\n      <td>...</td>\n    </tr>\n    <tr>\n      <th>2022-03-01</th>\n      <td>1815</td>\n      <td>4391.265217</td>\n      <td>61.969974</td>\n      <td>197.91</td>\n      <td>287.504000</td>\n      <td>2022.208333</td>\n      <td>2.130000</td>\n      <td>4500.965133</td>\n      <td>63.518071</td>\n      <td>2.891616e+06</td>\n      <td>202.854067</td>\n      <td>130322.300006</td>\n      <td>34.270799</td>\n      <td>37.239412</td>\n      <td>0.030717</td>\n      <td>0.948016</td>\n      <td>47.304227</td>\n      <td>NaN</td>\n      <td>NaN</td>\n      <td>NaN</td>\n    </tr>\n    <tr>\n      <th>2022-04-01</th>\n      <td>1816</td>\n      <td>4391.296000</td>\n      <td>62.653316</td>\n      <td>NaN</td>\n      <td>289.109000</td>\n      <td>2022.291667</td>\n      <td>2.750000</td>\n      <td>4476.009224</td>\n      <td>63.861972</td>\n      <td>2.879003e+06</td>\n      <td>NaN</td>\n      <td>NaN</td>\n      <td>33.889165</td>\n      <td>36.800852</td>\n      <td>0.025106</td>\n      <td>0.989378</td>\n      <td>44.596200</td>\n      <td>NaN</td>\n      <td>NaN</td>\n      <td>NaN</td>\n    </tr>\n    <tr>\n      <th>2022-05-01</th>\n      <td>1817</td>\n      <td>4040.360000</td>\n      <td>63.336658</td>\n      <td>NaN</td>\n      <td>292.296000</td>\n      <td>2022.375000</td>\n      <td>2.900000</td>\n      <td>4073.400036</td>\n      <td>63.854594</td>\n      <td>2.623464e+06</td>\n      <td>NaN</td>\n      <td>NaN</td>\n      <td>30.803768</td>\n      <td>33.469559</td>\n      <td>0.027804</td>\n      <td>0.981988</td>\n      <td>43.641414</td>\n      <td>NaN</td>\n      <td>NaN</td>\n      <td>NaN</td>\n    </tr>\n    <tr>\n      <th>2022-06-01</th>\n      <td>1818</td>\n      <td>3898.946667</td>\n      <td>64.020000</td>\n      <td>NaN</td>\n      <td>293.889500</td>\n      <td>2022.458333</td>\n      <td>3.140000</td>\n      <td>3909.516918</td>\n      <td>64.193562</td>\n      <td>2.521361e+06</td>\n      <td>NaN</td>\n      <td>NaN</td>\n      <td>29.528057</td>\n      <td>32.103912</td>\n      <td>0.027514</td>\n      <td>1.025022</td>\n      <td>42.622998</td>\n      <td>NaN</td>\n      <td>NaN</td>\n      <td>NaN</td>\n    </tr>\n    <tr>\n      <th>2022-07-01</th>\n      <td>1819</td>\n      <td>3831.390000</td>\n      <td>NaN</td>\n      <td>NaN</td>\n      <td>294.686250</td>\n      <td>2022.541667</td>\n      <td>2.880000</td>\n      <td>3831.390000</td>\n      <td>NaN</td>\n      <td>2.470974e+06</td>\n      <td>NaN</td>\n      <td>NaN</td>\n      <td>28.901599</td>\n      <td>31.399955</td>\n      <td>0.031293</td>\n      <td>NaN</td>\n      <td>43.571377</td>\n      <td>NaN</td>\n      <td>NaN</td>\n      <td>NaN</td>\n    </tr>\n  </tbody>\n</table>\n<p>1819 rows × 20 columns</p>\n</div>"
     },
     "execution_count": 41,
     "metadata": {},
     "output_type": "execute_result"
    }
   ],
   "source": [
    "df_db = pd.read_sql(\"CAPE_DATA\", con=engine, index_col=\"date\")\n",
    "df_db"
   ],
   "metadata": {
    "collapsed": false,
    "pycharm": {
     "name": "#%%\n"
    }
   }
  }
 ],
 "metadata": {
  "kernelspec": {
   "display_name": "Python 3",
   "language": "python",
   "name": "python3"
  },
  "language_info": {
   "codemirror_mode": {
    "name": "ipython",
    "version": 2
   },
   "file_extension": ".py",
   "mimetype": "text/x-python",
   "name": "python",
   "nbconvert_exporter": "python",
   "pygments_lexer": "ipython2",
   "version": "2.7.6"
  }
 },
 "nbformat": 4,
 "nbformat_minor": 0
}